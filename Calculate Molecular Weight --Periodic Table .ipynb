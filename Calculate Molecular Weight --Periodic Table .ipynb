{
 "cells": [
  {
   "cell_type": "code",
   "execution_count": 15,
   "metadata": {},
   "outputs": [],
   "source": [
    "'''\n",
    "Create a class Element for representing elements in the periodic table\n",
    "of elements. \n",
    "The constructor should deﬁne attributes to store element name, \n",
    "atomic number, symbol, and atomic weight, and accessor methods for \n",
    "each of these values.\n",
    "Create appropriate tests to verify the correctness of the implementation\n",
    "Create a class PeriodicTable. \n",
    "The data type should have:\n",
    "• a constructor that reads values from a ﬁle to create a dictionary whose\n",
    "keys are strings representing element symbols and whose values \n",
    "are Element objects.\n",
    "The ﬁle elements.txt on moodle contains the data pertaining to elements,\n",
    "one element per line. \n",
    "You will need to loop over the lines of the ﬁle and for each line use \n",
    "the string split() method to obtain the ﬁrst four values in it\n",
    "(name, number, symbol, and weight). \n",
    "• a method weight() that takes in a string representing a molecule\n",
    "name, such as 'H2 O', and returns its molecular weight. \n",
    "The string split() method will again be useful here for separating the \n",
    "contribution of each atom. \n",
    "The methods isdigit() or isalpha() may be used to separate the atomic\n",
    "symbol (e.g., 'H') from the number of times it occurs\n",
    "'''\n",
    "class periodictable :\n",
    "    def __init__(self,path):\n",
    "        self.elts={}\n",
    "        file=open(path,'r')\n",
    "        originalList = file.readlines()\n",
    "        for item in originalList:\n",
    "            lst = item.split(\"\\t\")\n",
    "            self.elts[lst[2]]=lst[0:2]+[lst[3]]\n",
    "    def w(self,e):\n",
    "        data = self.elts[e]\n",
    "        return float(data[-1])\n",
    "    \n",
    "    def weight(self,m):\n",
    "        l=m.split() #[H2,O]\n",
    "        tempsum=0 #don't use the name sum since it also is a built-in function\n",
    "        for e in l :\n",
    "            if e.isalpha():\n",
    "                tempsum+=self.w(e)\n",
    "            else:\n",
    "                dig = int((e.lower()).strip(\"abcdefghijklmnopqrstuvwxyz\"))\n",
    "                alp = e.strip(\"1234567890\")\n",
    "                tempsum+=dig*self.w(alp)\n",
    "        return tempsum\n",
    "                "
   ]
  },
  {
   "cell_type": "code",
   "execution_count": 16,
   "metadata": {},
   "outputs": [
    {
     "data": {
      "text/plain": [
       "18.02"
      ]
     },
     "execution_count": 16,
     "metadata": {},
     "output_type": "execute_result"
    }
   ],
   "source": [
    "p = periodictable(\"elements_1.txt\")        \n",
    "p.weight(\"H2 O\")"
   ]
  },
  {
   "cell_type": "code",
   "execution_count": null,
   "metadata": {},
   "outputs": [],
   "source": []
  }
 ],
 "metadata": {
  "kernelspec": {
   "display_name": "Python 3",
   "language": "python",
   "name": "python3"
  },
  "language_info": {
   "codemirror_mode": {
    "name": "ipython",
    "version": 3
   },
   "file_extension": ".py",
   "mimetype": "text/x-python",
   "name": "python",
   "nbconvert_exporter": "python",
   "pygments_lexer": "ipython3",
   "version": "3.6.5"
  }
 },
 "nbformat": 4,
 "nbformat_minor": 2
}
